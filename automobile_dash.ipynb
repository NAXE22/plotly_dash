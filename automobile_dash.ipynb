{
 "cells": [
  {
   "cell_type": "code",
   "execution_count": 143,
   "metadata": {},
   "outputs": [
    {
     "data": {
      "text/html": [
       "\n",
       "        <iframe\n",
       "            width=\"100%\"\n",
       "            height=\"650\"\n",
       "            src=\"http://127.0.0.1:8080/\"\n",
       "            frameborder=\"0\"\n",
       "            allowfullscreen\n",
       "            \n",
       "        ></iframe>\n",
       "        "
      ],
      "text/plain": [
       "<IPython.lib.display.IFrame at 0x218ecda6e30>"
      ]
     },
     "metadata": {},
     "output_type": "display_data"
    }
   ],
   "source": [
    "import dash\n",
    "from dash import dcc, html\n",
    "import more_itertools\n",
    "import pandas as pd\n",
    "from dash.dependencies import Input,Output\n",
    "import plotly.express as px\n",
    "import plotly.graph_objs as go\n",
    "\n",
    "# Load the data\n",
    "df = pd.read_csv('https://cf-courses-data.s3.us.cloud-object-storage.appdomain.cloud/IBMDeveloperSkillsNetwork-DV0101EN-SkillsNetwork/Data%20Files/historical_automobile_sales.csv')\n",
    "\n",
    "# List of years\n",
    "year_list = [i for i in range(1980, 2024, 1)]\n",
    "\n",
    "# Initialize Dash app\n",
    "app = dash.Dash(__name__)\n",
    "\n",
    "# App layout\n",
    "app.layout = html.Div([\n",
    "    html.H1('Automobile Sales Statistics Dashboard', style={'textAlign': 'center', 'color': '#503D36', 'font-size': 24}),\n",
    "    \n",
    "    html.Div([\n",
    "        html.Label(\"Select Statistics:\"),\n",
    "        dcc.Dropdown(\n",
    "            id='dropdown_statistics',\n",
    "            options=[\n",
    "                {'label': 'Yearly Statistics', 'value': 'Yearly Statistics'},\n",
    "                {'label': 'Recession Period Statistics', 'value': 'Recession Period Statistics'}\n",
    "            ],\n",
    "            value='Yearly Statistics',  # Set default value to match one of the options\n",
    "            placeholder='Select a report type.'\n",
    "        )\n",
    "    ]),\n",
    "    \n",
    "    html.Div([\n",
    "        html.Label(\"Select Year:\"),\n",
    "        dcc.Dropdown(\n",
    "            id='select-year',\n",
    "            options=[{'label': str(i), 'value': i} for i in year_list],\n",
    "            value=2020  # Set default year value\n",
    "        )\n",
    "    ]),\n",
    "    \n",
    "    # Division for output display (chart grid)\n",
    "    html.Div(id='output-container', className='chart-grid', style={'display': 'flex', 'flexWrap': 'wrap'})\n",
    "])\n",
    "# callback function to update input container\n",
    "@app.callback(\n",
    "    Output(component_id='select-year', component_property='disabled'),\n",
    "    Input(component_id='dropdown_statistics',component_property='value'))\n",
    "def update_input_container(statistics_value):\n",
    "    if statistics_value =='Yearly Statistics': \n",
    "        return False\n",
    "    else: \n",
    "        return True\n",
    "\n",
    "#callback function to update output container to show graph\n",
    "@app.callback(\n",
    "    Output('output-container','children'),[Input('select-year','value'),Input('dropdown_statistics','value')])\n",
    "def update_graph(selected_year, selected_statistic):\n",
    "    graphs=[]\n",
    "    if selected_statistic == 'Yearly Statistics':\n",
    "        # Filter the data for the selected year\n",
    "        filtered_data = df[df['Year'] == selected_year]\n",
    "\n",
    "        #line plot for yearly sales for the whole period\n",
    "        yas= df.groupby('Year')['Automobile_Sales'].mean().reset_index()\n",
    "        fig1 = px.line(yas, x='Year', y='Automobile_Sales', title=\" total Automobile Sales \")\n",
    "        graphs.append(dcc.Graph(figure=fig1))\n",
    "\n",
    "\n",
    "        #monthly automobile sales\n",
    "        mas= filtered_data.groupby('Month')['Automobile_Sales'].mean().reset_index()\n",
    "        fig2 = px.line(mas, x='Month', y='Automobile_Sales', title=\" total monthly Automobile Sales \")\n",
    "        graphs.append(dcc.Graph(figure=fig2))\n",
    "\n",
    "        #bar chart for averag number fo vehicle sold during the given year\n",
    "        avg_sales= filtered_data.groupby('Vehicle_Type')['Automobile_Sales'].mean().reset_index()\n",
    "        fig3 = px.bar(avg_sales, x='Vehicle_Type', y='Automobile_Sales', title=\" avg Automobile Sales for each vehcile type\")\n",
    "        graphs.append(dcc.Graph(figure=fig3))\n",
    "\n",
    "        #pie chart \n",
    "        avg_exp= filtered_data.groupby('Vehicle_Type')['Advertising_Expenditure'].mean().reset_index()\n",
    "        fig4 = px.pie(avg_exp, names='Vehicle_Type', values='Advertising_Expenditure', title=\" Average expenditure for each vehcile  type \")\n",
    "        graphs.append(dcc.Graph(figure=fig4))\n",
    "\n",
    "\n",
    "\n",
    "\n",
    "        return graphs\n",
    "        \n",
    "        \n",
    "\n",
    "        \n",
    "        # Create a graph using Plotly Express\n",
    "        #fig = px.line(filtered_data, x='Month', y='Automobile_Sales', title=f\"Automobile Sales in {selected_year}\")\n",
    "        \n",
    "        #return dcc.Graph(figure=fig)\n",
    "    \n",
    "    elif selected_statistic == 'Recession Period Statistics':\n",
    "        # Filter the data for recession periods (assuming a 'Recession' column exists)\n",
    "        recession_data = df[df['Recession'] == 1]\n",
    "        \n",
    "        # automobile sale fluctuation over recession period\n",
    "        yas= recession_data.groupby('Year')['Automobile_Sales'].mean().reset_index()\n",
    "        fig5 = px.line(yas, x='Year', y='Automobile_Sales', title=\" Average Automobile Sales fluctuation over Recession Period \")\n",
    "        graphs.append(dcc.Graph(figure=fig5))\n",
    "\n",
    "\n",
    "        #average number of vehcile sold by vehicle type\n",
    "        avg_sales= recession_data.groupby('Vehicle_Type')['Automobile_Sales'].mean().reset_index()\n",
    "        fig6 = px.bar(avg_sales, x='Vehicle_Type', y='Automobile_Sales', title=\" Average Automobile Sales by vehicle type \")\n",
    "        graphs.append(dcc.Graph(figure=fig6))\n",
    "\n",
    "        #pie chart for total expenditure share by vehicle type\n",
    "        avg_sales= recession_data.groupby('Vehicle_Type')['Automobile_Sales'].mean().reset_index()\n",
    "        fig7 = px.pie(avg_sales, names='Vehicle_Type', values='Automobile_Sales', title=\" Average Automobile Sales by vehicle type \")\n",
    "        graphs.append(dcc.Graph(figure=fig7))\n",
    "\n",
    "        #bar chart for the relation between unemployment rate and sales for each vehicle type\n",
    "        unemp_data= recession_data.groupby(['Vehicle_Type','unemployment_rate'])['Automobile_Sales'].mean().reset_index()\n",
    "        fig8 =px.bar(unemp_data, x='unemployment_rate', y='Automobile_Sales', color='Vehicle_Type', \n",
    "             title=\"Effect of Unemployment Rate on Vehicle Type and Sales\",\n",
    "             labels={'unemployment_rate': 'Unemployment Rate (%)', 'Automobile_Sales': 'Average Sales'},\n",
    "             barmode='group')\n",
    "        graphs.append(dcc.Graph(figure=fig8))\n",
    "        \n",
    "        return graphs\n",
    "\n",
    "        \n",
    "if __name__ == '__main__':\n",
    "    app.run_server(debug=True,port=8080)\n"
   ]
  },
  {
   "cell_type": "code",
   "execution_count": 142,
   "metadata": {},
   "outputs": [
    {
     "data": {
      "application/vnd.plotly.v1+json": {
       "config": {
        "plotlyServerURL": "https://plot.ly"
       },
       "data": [
        {
         "alignmentgroup": "True",
         "hovertemplate": "Vehicle_Type=Executivecar<br>Unemployment Rate (%)=%{x}<br>Average Sales=%{y}<extra></extra>",
         "legendgroup": "Executivecar",
         "marker": {
          "color": "#636efa",
          "pattern": {
           "shape": ""
          }
         },
         "name": "Executivecar",
         "offsetgroup": "Executivecar",
         "orientation": "v",
         "showlegend": true,
         "textposition": "auto",
         "type": "bar",
         "x": [
          2.9
         ],
         "xaxis": "x",
         "y": [
          564
         ],
         "yaxis": "y"
        },
        {
         "alignmentgroup": "True",
         "hovertemplate": "Vehicle_Type=Mediumfamilycar<br>Unemployment Rate (%)=%{x}<br>Average Sales=%{y}<extra></extra>",
         "legendgroup": "Mediumfamilycar",
         "marker": {
          "color": "#EF553B",
          "pattern": {
           "shape": ""
          }
         },
         "name": "Mediumfamilycar",
         "offsetgroup": "Mediumfamilycar",
         "orientation": "v",
         "showlegend": true,
         "textposition": "auto",
         "type": "bar",
         "x": [
          2.6,
          2.8,
          2.9,
          3,
          3.1,
          3.2,
          3.3,
          3.4,
          3.5,
          3.6,
          3.7,
          3.8,
          4,
          4.1,
          4.2,
          4.4,
          4.5,
          4.7,
          4.8,
          5,
          5.4,
          5.5,
          5.8
         ],
         "xaxis": "x",
         "y": [
          685.45,
          714.8,
          666.9,
          742.45,
          691.3,
          678.05,
          651.5,
          617.9333333333334,
          690.55,
          651.7,
          692.8,
          665.75,
          763.9,
          736.55,
          651.7,
          645.05,
          619.1,
          731.4,
          572.7,
          751.4,
          721.5,
          637.3499999999999,
          574.3
         ],
         "yaxis": "y"
        },
        {
         "alignmentgroup": "True",
         "hovertemplate": "Vehicle_Type=Smallfamiliycar<br>Unemployment Rate (%)=%{x}<br>Average Sales=%{y}<extra></extra>",
         "legendgroup": "Smallfamiliycar",
         "marker": {
          "color": "#00cc96",
          "pattern": {
           "shape": ""
          }
         },
         "name": "Smallfamiliycar",
         "offsetgroup": "Smallfamiliycar",
         "orientation": "v",
         "showlegend": true,
         "textposition": "auto",
         "type": "bar",
         "x": [
          2.6,
          2.8,
          2.9,
          3,
          3.1,
          3.2,
          3.7,
          3.8,
          4,
          4.1,
          4.2,
          4.3,
          4.4,
          4.5,
          4.6,
          4.7,
          4.8,
          4.9,
          5,
          5.2,
          5.3,
          5.4,
          5.5,
          5.6,
          5.7,
          5.8
         ],
         "xaxis": "x",
         "y": [
          570.9,
          776.2,
          619.4,
          574.7,
          618.2,
          589,
          689.8,
          773.3,
          671.6,
          756.3,
          614.4,
          677.6,
          643.9,
          759.5,
          552.3,
          648.1,
          690.4,
          670.5,
          635.3,
          705.6,
          595.7666666666667,
          674.95,
          723,
          653.6666666666666,
          575.2,
          581.2
         ],
         "yaxis": "y"
        },
        {
         "alignmentgroup": "True",
         "hovertemplate": "Vehicle_Type=Sports<br>Unemployment Rate (%)=%{x}<br>Average Sales=%{y}<extra></extra>",
         "legendgroup": "Sports",
         "marker": {
          "color": "#ab63fa",
          "pattern": {
           "shape": ""
          }
         },
         "name": "Sports",
         "offsetgroup": "Sports",
         "orientation": "v",
         "showlegend": true,
         "textposition": "auto",
         "type": "bar",
         "x": [
          3.6,
          5.3,
          5.4
         ],
         "xaxis": "x",
         "y": [
          214,
          195,
          102
         ],
         "yaxis": "y"
        },
        {
         "alignmentgroup": "True",
         "hovertemplate": "Vehicle_Type=Supperminicar<br>Unemployment Rate (%)=%{x}<br>Average Sales=%{y}<extra></extra>",
         "legendgroup": "Supperminicar",
         "marker": {
          "color": "#FFA15A",
          "pattern": {
           "shape": ""
          }
         },
         "name": "Supperminicar",
         "offsetgroup": "Supperminicar",
         "orientation": "v",
         "showlegend": true,
         "textposition": "auto",
         "type": "bar",
         "x": [
          2.6,
          2.8,
          2.9,
          3,
          3.1,
          3.2,
          3.5,
          3.6,
          3.7,
          3.8,
          4.2,
          4.3,
          4.4,
          4.5,
          4.8,
          4.9,
          5.2,
          5.4,
          5.7,
          5.9,
          6
         ],
         "xaxis": "x",
         "y": [
          762,
          657.1,
          729.6,
          734.9,
          718.9666666666667,
          750,
          745,
          633.8,
          682.9333333333334,
          644.45,
          632.95,
          690.7,
          650,
          686.1,
          604.5,
          707.4,
          615.4,
          573.95,
          559.4,
          325,
          750.8
         ],
         "yaxis": "y"
        }
       ],
       "layout": {
        "barmode": "group",
        "legend": {
         "title": {
          "text": "Vehicle_Type"
         },
         "tracegroupgap": 0
        },
        "template": {
         "data": {
          "bar": [
           {
            "error_x": {
             "color": "#2a3f5f"
            },
            "error_y": {
             "color": "#2a3f5f"
            },
            "marker": {
             "line": {
              "color": "#E5ECF6",
              "width": 0.5
             },
             "pattern": {
              "fillmode": "overlay",
              "size": 10,
              "solidity": 0.2
             }
            },
            "type": "bar"
           }
          ],
          "barpolar": [
           {
            "marker": {
             "line": {
              "color": "#E5ECF6",
              "width": 0.5
             },
             "pattern": {
              "fillmode": "overlay",
              "size": 10,
              "solidity": 0.2
             }
            },
            "type": "barpolar"
           }
          ],
          "carpet": [
           {
            "aaxis": {
             "endlinecolor": "#2a3f5f",
             "gridcolor": "white",
             "linecolor": "white",
             "minorgridcolor": "white",
             "startlinecolor": "#2a3f5f"
            },
            "baxis": {
             "endlinecolor": "#2a3f5f",
             "gridcolor": "white",
             "linecolor": "white",
             "minorgridcolor": "white",
             "startlinecolor": "#2a3f5f"
            },
            "type": "carpet"
           }
          ],
          "choropleth": [
           {
            "colorbar": {
             "outlinewidth": 0,
             "ticks": ""
            },
            "type": "choropleth"
           }
          ],
          "contour": [
           {
            "colorbar": {
             "outlinewidth": 0,
             "ticks": ""
            },
            "colorscale": [
             [
              0,
              "#0d0887"
             ],
             [
              0.1111111111111111,
              "#46039f"
             ],
             [
              0.2222222222222222,
              "#7201a8"
             ],
             [
              0.3333333333333333,
              "#9c179e"
             ],
             [
              0.4444444444444444,
              "#bd3786"
             ],
             [
              0.5555555555555556,
              "#d8576b"
             ],
             [
              0.6666666666666666,
              "#ed7953"
             ],
             [
              0.7777777777777778,
              "#fb9f3a"
             ],
             [
              0.8888888888888888,
              "#fdca26"
             ],
             [
              1,
              "#f0f921"
             ]
            ],
            "type": "contour"
           }
          ],
          "contourcarpet": [
           {
            "colorbar": {
             "outlinewidth": 0,
             "ticks": ""
            },
            "type": "contourcarpet"
           }
          ],
          "heatmap": [
           {
            "colorbar": {
             "outlinewidth": 0,
             "ticks": ""
            },
            "colorscale": [
             [
              0,
              "#0d0887"
             ],
             [
              0.1111111111111111,
              "#46039f"
             ],
             [
              0.2222222222222222,
              "#7201a8"
             ],
             [
              0.3333333333333333,
              "#9c179e"
             ],
             [
              0.4444444444444444,
              "#bd3786"
             ],
             [
              0.5555555555555556,
              "#d8576b"
             ],
             [
              0.6666666666666666,
              "#ed7953"
             ],
             [
              0.7777777777777778,
              "#fb9f3a"
             ],
             [
              0.8888888888888888,
              "#fdca26"
             ],
             [
              1,
              "#f0f921"
             ]
            ],
            "type": "heatmap"
           }
          ],
          "heatmapgl": [
           {
            "colorbar": {
             "outlinewidth": 0,
             "ticks": ""
            },
            "colorscale": [
             [
              0,
              "#0d0887"
             ],
             [
              0.1111111111111111,
              "#46039f"
             ],
             [
              0.2222222222222222,
              "#7201a8"
             ],
             [
              0.3333333333333333,
              "#9c179e"
             ],
             [
              0.4444444444444444,
              "#bd3786"
             ],
             [
              0.5555555555555556,
              "#d8576b"
             ],
             [
              0.6666666666666666,
              "#ed7953"
             ],
             [
              0.7777777777777778,
              "#fb9f3a"
             ],
             [
              0.8888888888888888,
              "#fdca26"
             ],
             [
              1,
              "#f0f921"
             ]
            ],
            "type": "heatmapgl"
           }
          ],
          "histogram": [
           {
            "marker": {
             "pattern": {
              "fillmode": "overlay",
              "size": 10,
              "solidity": 0.2
             }
            },
            "type": "histogram"
           }
          ],
          "histogram2d": [
           {
            "colorbar": {
             "outlinewidth": 0,
             "ticks": ""
            },
            "colorscale": [
             [
              0,
              "#0d0887"
             ],
             [
              0.1111111111111111,
              "#46039f"
             ],
             [
              0.2222222222222222,
              "#7201a8"
             ],
             [
              0.3333333333333333,
              "#9c179e"
             ],
             [
              0.4444444444444444,
              "#bd3786"
             ],
             [
              0.5555555555555556,
              "#d8576b"
             ],
             [
              0.6666666666666666,
              "#ed7953"
             ],
             [
              0.7777777777777778,
              "#fb9f3a"
             ],
             [
              0.8888888888888888,
              "#fdca26"
             ],
             [
              1,
              "#f0f921"
             ]
            ],
            "type": "histogram2d"
           }
          ],
          "histogram2dcontour": [
           {
            "colorbar": {
             "outlinewidth": 0,
             "ticks": ""
            },
            "colorscale": [
             [
              0,
              "#0d0887"
             ],
             [
              0.1111111111111111,
              "#46039f"
             ],
             [
              0.2222222222222222,
              "#7201a8"
             ],
             [
              0.3333333333333333,
              "#9c179e"
             ],
             [
              0.4444444444444444,
              "#bd3786"
             ],
             [
              0.5555555555555556,
              "#d8576b"
             ],
             [
              0.6666666666666666,
              "#ed7953"
             ],
             [
              0.7777777777777778,
              "#fb9f3a"
             ],
             [
              0.8888888888888888,
              "#fdca26"
             ],
             [
              1,
              "#f0f921"
             ]
            ],
            "type": "histogram2dcontour"
           }
          ],
          "mesh3d": [
           {
            "colorbar": {
             "outlinewidth": 0,
             "ticks": ""
            },
            "type": "mesh3d"
           }
          ],
          "parcoords": [
           {
            "line": {
             "colorbar": {
              "outlinewidth": 0,
              "ticks": ""
             }
            },
            "type": "parcoords"
           }
          ],
          "pie": [
           {
            "automargin": true,
            "type": "pie"
           }
          ],
          "scatter": [
           {
            "fillpattern": {
             "fillmode": "overlay",
             "size": 10,
             "solidity": 0.2
            },
            "type": "scatter"
           }
          ],
          "scatter3d": [
           {
            "line": {
             "colorbar": {
              "outlinewidth": 0,
              "ticks": ""
             }
            },
            "marker": {
             "colorbar": {
              "outlinewidth": 0,
              "ticks": ""
             }
            },
            "type": "scatter3d"
           }
          ],
          "scattercarpet": [
           {
            "marker": {
             "colorbar": {
              "outlinewidth": 0,
              "ticks": ""
             }
            },
            "type": "scattercarpet"
           }
          ],
          "scattergeo": [
           {
            "marker": {
             "colorbar": {
              "outlinewidth": 0,
              "ticks": ""
             }
            },
            "type": "scattergeo"
           }
          ],
          "scattergl": [
           {
            "marker": {
             "colorbar": {
              "outlinewidth": 0,
              "ticks": ""
             }
            },
            "type": "scattergl"
           }
          ],
          "scattermapbox": [
           {
            "marker": {
             "colorbar": {
              "outlinewidth": 0,
              "ticks": ""
             }
            },
            "type": "scattermapbox"
           }
          ],
          "scatterpolar": [
           {
            "marker": {
             "colorbar": {
              "outlinewidth": 0,
              "ticks": ""
             }
            },
            "type": "scatterpolar"
           }
          ],
          "scatterpolargl": [
           {
            "marker": {
             "colorbar": {
              "outlinewidth": 0,
              "ticks": ""
             }
            },
            "type": "scatterpolargl"
           }
          ],
          "scatterternary": [
           {
            "marker": {
             "colorbar": {
              "outlinewidth": 0,
              "ticks": ""
             }
            },
            "type": "scatterternary"
           }
          ],
          "surface": [
           {
            "colorbar": {
             "outlinewidth": 0,
             "ticks": ""
            },
            "colorscale": [
             [
              0,
              "#0d0887"
             ],
             [
              0.1111111111111111,
              "#46039f"
             ],
             [
              0.2222222222222222,
              "#7201a8"
             ],
             [
              0.3333333333333333,
              "#9c179e"
             ],
             [
              0.4444444444444444,
              "#bd3786"
             ],
             [
              0.5555555555555556,
              "#d8576b"
             ],
             [
              0.6666666666666666,
              "#ed7953"
             ],
             [
              0.7777777777777778,
              "#fb9f3a"
             ],
             [
              0.8888888888888888,
              "#fdca26"
             ],
             [
              1,
              "#f0f921"
             ]
            ],
            "type": "surface"
           }
          ],
          "table": [
           {
            "cells": {
             "fill": {
              "color": "#EBF0F8"
             },
             "line": {
              "color": "white"
             }
            },
            "header": {
             "fill": {
              "color": "#C8D4E3"
             },
             "line": {
              "color": "white"
             }
            },
            "type": "table"
           }
          ]
         },
         "layout": {
          "annotationdefaults": {
           "arrowcolor": "#2a3f5f",
           "arrowhead": 0,
           "arrowwidth": 1
          },
          "autotypenumbers": "strict",
          "coloraxis": {
           "colorbar": {
            "outlinewidth": 0,
            "ticks": ""
           }
          },
          "colorscale": {
           "diverging": [
            [
             0,
             "#8e0152"
            ],
            [
             0.1,
             "#c51b7d"
            ],
            [
             0.2,
             "#de77ae"
            ],
            [
             0.3,
             "#f1b6da"
            ],
            [
             0.4,
             "#fde0ef"
            ],
            [
             0.5,
             "#f7f7f7"
            ],
            [
             0.6,
             "#e6f5d0"
            ],
            [
             0.7,
             "#b8e186"
            ],
            [
             0.8,
             "#7fbc41"
            ],
            [
             0.9,
             "#4d9221"
            ],
            [
             1,
             "#276419"
            ]
           ],
           "sequential": [
            [
             0,
             "#0d0887"
            ],
            [
             0.1111111111111111,
             "#46039f"
            ],
            [
             0.2222222222222222,
             "#7201a8"
            ],
            [
             0.3333333333333333,
             "#9c179e"
            ],
            [
             0.4444444444444444,
             "#bd3786"
            ],
            [
             0.5555555555555556,
             "#d8576b"
            ],
            [
             0.6666666666666666,
             "#ed7953"
            ],
            [
             0.7777777777777778,
             "#fb9f3a"
            ],
            [
             0.8888888888888888,
             "#fdca26"
            ],
            [
             1,
             "#f0f921"
            ]
           ],
           "sequentialminus": [
            [
             0,
             "#0d0887"
            ],
            [
             0.1111111111111111,
             "#46039f"
            ],
            [
             0.2222222222222222,
             "#7201a8"
            ],
            [
             0.3333333333333333,
             "#9c179e"
            ],
            [
             0.4444444444444444,
             "#bd3786"
            ],
            [
             0.5555555555555556,
             "#d8576b"
            ],
            [
             0.6666666666666666,
             "#ed7953"
            ],
            [
             0.7777777777777778,
             "#fb9f3a"
            ],
            [
             0.8888888888888888,
             "#fdca26"
            ],
            [
             1,
             "#f0f921"
            ]
           ]
          },
          "colorway": [
           "#636efa",
           "#EF553B",
           "#00cc96",
           "#ab63fa",
           "#FFA15A",
           "#19d3f3",
           "#FF6692",
           "#B6E880",
           "#FF97FF",
           "#FECB52"
          ],
          "font": {
           "color": "#2a3f5f"
          },
          "geo": {
           "bgcolor": "white",
           "lakecolor": "white",
           "landcolor": "#E5ECF6",
           "showlakes": true,
           "showland": true,
           "subunitcolor": "white"
          },
          "hoverlabel": {
           "align": "left"
          },
          "hovermode": "closest",
          "mapbox": {
           "style": "light"
          },
          "paper_bgcolor": "white",
          "plot_bgcolor": "#E5ECF6",
          "polar": {
           "angularaxis": {
            "gridcolor": "white",
            "linecolor": "white",
            "ticks": ""
           },
           "bgcolor": "#E5ECF6",
           "radialaxis": {
            "gridcolor": "white",
            "linecolor": "white",
            "ticks": ""
           }
          },
          "scene": {
           "xaxis": {
            "backgroundcolor": "#E5ECF6",
            "gridcolor": "white",
            "gridwidth": 2,
            "linecolor": "white",
            "showbackground": true,
            "ticks": "",
            "zerolinecolor": "white"
           },
           "yaxis": {
            "backgroundcolor": "#E5ECF6",
            "gridcolor": "white",
            "gridwidth": 2,
            "linecolor": "white",
            "showbackground": true,
            "ticks": "",
            "zerolinecolor": "white"
           },
           "zaxis": {
            "backgroundcolor": "#E5ECF6",
            "gridcolor": "white",
            "gridwidth": 2,
            "linecolor": "white",
            "showbackground": true,
            "ticks": "",
            "zerolinecolor": "white"
           }
          },
          "shapedefaults": {
           "line": {
            "color": "#2a3f5f"
           }
          },
          "ternary": {
           "aaxis": {
            "gridcolor": "white",
            "linecolor": "white",
            "ticks": ""
           },
           "baxis": {
            "gridcolor": "white",
            "linecolor": "white",
            "ticks": ""
           },
           "bgcolor": "#E5ECF6",
           "caxis": {
            "gridcolor": "white",
            "linecolor": "white",
            "ticks": ""
           }
          },
          "title": {
           "x": 0.05
          },
          "xaxis": {
           "automargin": true,
           "gridcolor": "white",
           "linecolor": "white",
           "ticks": "",
           "title": {
            "standoff": 15
           },
           "zerolinecolor": "white",
           "zerolinewidth": 2
          },
          "yaxis": {
           "automargin": true,
           "gridcolor": "white",
           "linecolor": "white",
           "ticks": "",
           "title": {
            "standoff": 15
           },
           "zerolinecolor": "white",
           "zerolinewidth": 2
          }
         }
        },
        "title": {
         "text": "Effect of Unemployment Rate on Vehicle Type and Sales"
        },
        "xaxis": {
         "anchor": "y",
         "domain": [
          0,
          1
         ],
         "title": {
          "text": "Unemployment Rate (%)"
         }
        },
        "yaxis": {
         "anchor": "x",
         "domain": [
          0,
          1
         ],
         "title": {
          "text": "Average Sales"
         }
        }
       }
      }
     },
     "metadata": {},
     "output_type": "display_data"
    }
   ],
   "source": [
    "recession_data = df[df['Recession'] == 1]\n",
    "unemp_data= recession_data.groupby(['Vehicle_Type','unemployment_rate'])['Automobile_Sales'].mean().reset_index()\n",
    "fig7 =px.bar(unemp_data, x='unemployment_rate', y='Automobile_Sales', color='Vehicle_Type', \n",
    "             title=\"Effect of Unemployment Rate on Vehicle Type and Sales\",\n",
    "             labels={'unemployment_rate': 'Unemployment Rate (%)', 'Automobile_Sales': 'Average Sales'},\n",
    "             barmode='group')\n",
    "fig7.show()\n",
    "#recession_data"
   ]
  },
  {
   "cell_type": "markdown",
   "metadata": {},
   "source": [
    "\n",
    "avag_sales= filtered_data.groupby('Year')['Automobile_Sales'].mean()\n",
    "        fig3 = px.bar(avag_sales, x='Year', y='Automobile_Sales', title=\" avg Automobile Sales \")\n",
    "    fig3"
   ]
  },
  {
   "cell_type": "code",
   "execution_count": null,
   "metadata": {},
   "outputs": [],
   "source": []
  },
  {
   "cell_type": "code",
   "execution_count": 85,
   "metadata": {},
   "outputs": [
    {
     "name": "stdout",
     "output_type": "stream",
     "text": [
      "   index        Date  Year Month  Recession  Consumer_Confidence  \\\n",
      "0    109   9/30/2020  2020   Sep          1               111.62   \n",
      "1    110  10/31/2020  2020   Oct          1                84.48   \n",
      "2    111  11/30/2020  2020   Nov          1               112.39   \n",
      "3    112  12/31/2020  2020   Dec          1                97.85   \n",
      "4    484   1/31/2020  2020   Jan          0               106.81   \n",
      "\n",
      "   Seasonality_Weight      Price  Advertising_Expenditure  Competition  \\\n",
      "0                0.07  33435.708                     2622            8   \n",
      "1                0.00  29408.199                     4700            4   \n",
      "2                0.07  24960.137                     4945            8   \n",
      "3                0.25  32399.721                     1341            4   \n",
      "4                0.50  24360.412                     3981            7   \n",
      "\n",
      "      GDP  Growth_Rate  unemployment_rate  Automobile_Sales     Vehicle_Type  \\\n",
      "0  17.046    -1.170773                3.7             692.8  Mediumfamilycar   \n",
      "1  53.028     0.678547                3.6             214.0           Sports   \n",
      "2  24.367    -1.176222                4.2             597.1  Mediumfamilycar   \n",
      "3  27.172     0.103231                4.9             670.4  Smallfamiliycar   \n",
      "4  29.627    -0.611706                1.5            1485.2           Sports   \n",
      "\n",
      "         City  \n",
      "0    Illinois  \n",
      "1  California  \n",
      "2    New York  \n",
      "3    New York  \n",
      "4  California  \n"
     ]
    }
   ],
   "source": [
    "filtered_data=df[df['Year']==2020]\n",
    "yearly_rec=filtered_data.reset_index()\n",
    "print(yearly_rec.head())"
   ]
  }
 ],
 "metadata": {
  "kernelspec": {
   "display_name": "Python 3",
   "language": "python",
   "name": "python3"
  },
  "language_info": {
   "codemirror_mode": {
    "name": "ipython",
    "version": 3
   },
   "file_extension": ".py",
   "mimetype": "text/x-python",
   "name": "python",
   "nbconvert_exporter": "python",
   "pygments_lexer": "ipython3",
   "version": "3.10.5"
  }
 },
 "nbformat": 4,
 "nbformat_minor": 2
}
